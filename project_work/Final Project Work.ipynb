{
 "cells": [
  {
   "cell_type": "markdown",
   "metadata": {},
   "source": [
    "## Memory Test on Drugged Islanders Experiment Analysis\n",
    "__Project Description:__\n",
    "\n",
    "An experiment on the effects of anti-anxiety medicine on memory recall when being primed with happy or sad memories. The participants were done on novel Islanders whom mimic real-life humans in response to external factors.\n",
    "\n",
    "Drugs of interest (known-as) [Dosage 1, 2, 3]: A - Alprazolam (Xanax, Long-term) [1mg/3mg/5mg] T - Triazolam (Halcion, Short-term) [0.25mg/0.5mg/0.75mg] S- Sugar Tablet (Placebo) [1 tab/2tabs/3tabs]\n",
    "\n",
    "- Dosages follow a 1:1 ratio to ensure validity \n",
    "- Happy or Sad memories were primed 10 minutes prior to testing \n",
    "- Participants tested every day for 1 week to mimic addiction\n",
    "\n",
    "Building the Case: Obstructive effects of Benzodiazepines (Anti-Anxiety Medicine): - Long term adverse effects on Long Term Potentiation of synapses, metacognition and memory recall ability http://www.jstor.org/stable/43854146\n",
    "\n",
    "Happy Memories: - research shown positive memories to have a deeper and greater volume of striatum representation under an fMRI https://www.sciencedirect.com/science/article/pii/S0896627314008484\n",
    "\n",
    "Sad Memories: - research shown sad memories invokes better memory recall for evolutionary purpose whereas, happy memories are more susceptible to false memories http://www.jstor.org/stable/40064315\n",
    "\n",
    "Participants - all genders above 25+ years old to ensure a fully developed pre-frontal cortex, a region responsible for higher level cognition and memory recall.\n",
    "\n",
    "__Questions to be answered:__\n",
    "\n",
    "How does anti-anxiety medicine affect you differently by age? Is there a level of plateauing in effectiveness of anti-anxiety medicine - if so, at what point? Effect of anti-anxiety medicine on memory recall? Effectiveness of placebos in a test environment?\n",
    "\n",
    "Link to data for future reference: https://www.kaggle.com/steveahn/memory-test-on-drugged-islanders-data"
   ]
  },
  {
   "cell_type": "code",
   "execution_count": 1,
   "metadata": {},
   "outputs": [],
   "source": [
    "import numpy as np\n",
    "import matplotlib.pyplot as plt\n",
    "import matplotlib as mpl\n",
    "import pandas as pd\n",
    "import statsmodels.api as sms\n",
    "import statsmodels.formula.api as smsf\n",
    "import scipy.stats as stats\n",
    "import sklearn\n",
    "import pyDOE as pydoe\n",
    "import pyDOE2 as pydoe2\n",
    "from statsmodels.graphics.factorplots import interaction_plot\n",
    "from mpl_toolkits.mplot3d import Axes3D\n",
    "from statsmodels.graphics.gofplots import ProbPlot"
   ]
  },
  {
   "cell_type": "code",
   "execution_count": 2,
   "metadata": {},
   "outputs": [
    {
     "data": {
      "text/html": [
       "<div>\n",
       "<style scoped>\n",
       "    .dataframe tbody tr th:only-of-type {\n",
       "        vertical-align: middle;\n",
       "    }\n",
       "\n",
       "    .dataframe tbody tr th {\n",
       "        vertical-align: top;\n",
       "    }\n",
       "\n",
       "    .dataframe thead th {\n",
       "        text-align: right;\n",
       "    }\n",
       "</style>\n",
       "<table border=\"1\" class=\"dataframe\">\n",
       "  <thead>\n",
       "    <tr style=\"text-align: right;\">\n",
       "      <th></th>\n",
       "      <th>first_name</th>\n",
       "      <th>last_name</th>\n",
       "      <th>age</th>\n",
       "      <th>Happy_Sad_group</th>\n",
       "      <th>Dosage</th>\n",
       "      <th>Drug</th>\n",
       "      <th>Mem_Score_Before</th>\n",
       "      <th>Mem_Score_After</th>\n",
       "      <th>Diff</th>\n",
       "    </tr>\n",
       "  </thead>\n",
       "  <tbody>\n",
       "    <tr>\n",
       "      <th>0</th>\n",
       "      <td>Bastian</td>\n",
       "      <td>Carrasco</td>\n",
       "      <td>25</td>\n",
       "      <td>H</td>\n",
       "      <td>1</td>\n",
       "      <td>A</td>\n",
       "      <td>63.5</td>\n",
       "      <td>61.2</td>\n",
       "      <td>-2.3</td>\n",
       "    </tr>\n",
       "    <tr>\n",
       "      <th>1</th>\n",
       "      <td>Evan</td>\n",
       "      <td>Carrasco</td>\n",
       "      <td>52</td>\n",
       "      <td>S</td>\n",
       "      <td>1</td>\n",
       "      <td>A</td>\n",
       "      <td>41.6</td>\n",
       "      <td>40.7</td>\n",
       "      <td>-0.9</td>\n",
       "    </tr>\n",
       "    <tr>\n",
       "      <th>2</th>\n",
       "      <td>Florencia</td>\n",
       "      <td>Carrasco</td>\n",
       "      <td>29</td>\n",
       "      <td>H</td>\n",
       "      <td>1</td>\n",
       "      <td>A</td>\n",
       "      <td>59.7</td>\n",
       "      <td>55.1</td>\n",
       "      <td>-4.6</td>\n",
       "    </tr>\n",
       "    <tr>\n",
       "      <th>3</th>\n",
       "      <td>Holly</td>\n",
       "      <td>Carrasco</td>\n",
       "      <td>50</td>\n",
       "      <td>S</td>\n",
       "      <td>1</td>\n",
       "      <td>A</td>\n",
       "      <td>51.7</td>\n",
       "      <td>51.2</td>\n",
       "      <td>-0.5</td>\n",
       "    </tr>\n",
       "    <tr>\n",
       "      <th>4</th>\n",
       "      <td>Justin</td>\n",
       "      <td>Carrasco</td>\n",
       "      <td>52</td>\n",
       "      <td>H</td>\n",
       "      <td>1</td>\n",
       "      <td>A</td>\n",
       "      <td>47.0</td>\n",
       "      <td>47.1</td>\n",
       "      <td>0.1</td>\n",
       "    </tr>\n",
       "    <tr>\n",
       "      <th>5</th>\n",
       "      <td>Liam</td>\n",
       "      <td>Carrasco</td>\n",
       "      <td>37</td>\n",
       "      <td>S</td>\n",
       "      <td>1</td>\n",
       "      <td>A</td>\n",
       "      <td>66.4</td>\n",
       "      <td>58.1</td>\n",
       "      <td>-8.3</td>\n",
       "    </tr>\n",
       "    <tr>\n",
       "      <th>6</th>\n",
       "      <td>Ava</td>\n",
       "      <td>Durand</td>\n",
       "      <td>35</td>\n",
       "      <td>S</td>\n",
       "      <td>1</td>\n",
       "      <td>A</td>\n",
       "      <td>44.1</td>\n",
       "      <td>56.0</td>\n",
       "      <td>11.9</td>\n",
       "    </tr>\n",
       "    <tr>\n",
       "      <th>7</th>\n",
       "      <td>Jamie</td>\n",
       "      <td>Durand</td>\n",
       "      <td>38</td>\n",
       "      <td>H</td>\n",
       "      <td>1</td>\n",
       "      <td>A</td>\n",
       "      <td>76.3</td>\n",
       "      <td>74.8</td>\n",
       "      <td>-1.5</td>\n",
       "    </tr>\n",
       "    <tr>\n",
       "      <th>8</th>\n",
       "      <td>Josefa</td>\n",
       "      <td>Durand</td>\n",
       "      <td>29</td>\n",
       "      <td>H</td>\n",
       "      <td>1</td>\n",
       "      <td>A</td>\n",
       "      <td>56.2</td>\n",
       "      <td>45.0</td>\n",
       "      <td>-11.2</td>\n",
       "    </tr>\n",
       "    <tr>\n",
       "      <th>9</th>\n",
       "      <td>Mark</td>\n",
       "      <td>Durand</td>\n",
       "      <td>36</td>\n",
       "      <td>S</td>\n",
       "      <td>1</td>\n",
       "      <td>A</td>\n",
       "      <td>54.8</td>\n",
       "      <td>75.9</td>\n",
       "      <td>21.1</td>\n",
       "    </tr>\n",
       "  </tbody>\n",
       "</table>\n",
       "</div>"
      ],
      "text/plain": [
       "  first_name last_name  age Happy_Sad_group  Dosage Drug  Mem_Score_Before  \\\n",
       "0    Bastian  Carrasco   25               H       1    A              63.5   \n",
       "1       Evan  Carrasco   52               S       1    A              41.6   \n",
       "2  Florencia  Carrasco   29               H       1    A              59.7   \n",
       "3      Holly  Carrasco   50               S       1    A              51.7   \n",
       "4     Justin  Carrasco   52               H       1    A              47.0   \n",
       "5       Liam  Carrasco   37               S       1    A              66.4   \n",
       "6        Ava    Durand   35               S       1    A              44.1   \n",
       "7      Jamie    Durand   38               H       1    A              76.3   \n",
       "8     Josefa    Durand   29               H       1    A              56.2   \n",
       "9       Mark    Durand   36               S       1    A              54.8   \n",
       "\n",
       "   Mem_Score_After  Diff  \n",
       "0             61.2  -2.3  \n",
       "1             40.7  -0.9  \n",
       "2             55.1  -4.6  \n",
       "3             51.2  -0.5  \n",
       "4             47.1   0.1  \n",
       "5             58.1  -8.3  \n",
       "6             56.0  11.9  \n",
       "7             74.8  -1.5  \n",
       "8             45.0 -11.2  \n",
       "9             75.9  21.1  "
      ]
     },
     "execution_count": 2,
     "metadata": {},
     "output_type": "execute_result"
    }
   ],
   "source": [
    "# Load the data\n",
    "islanders = pd.read_csv('datasets/Islander_data.csv', encoding = 'ISO-8859-1')\n",
    "islanders.head(10)"
   ]
  },
  {
   "cell_type": "code",
   "execution_count": 15,
   "metadata": {},
   "outputs": [
    {
     "name": "stdout",
     "output_type": "stream",
     "text": [
      "The unique last names are ['Carrasco' 'Durand' 'Gonzalez' 'Kennedy' 'Lopez' 'McCarthy' 'Morin'\n",
      " 'Price' 'Summers' 'Takahashi' 'Bernard' 'Hajek' 'Rodriguez' 'Steiner'\n",
      " 'Connolly' 'Castro' 'Fiala' 'Novak']\n",
      "18\n",
      "The ages of the islanders in this dataset is [24 25 26 27 28 29 30 31 32 33 34 35 36 37 38 39 40 41 42 43 44 45 46 47\n",
      " 48 49 50 51 52 53 54 55 56 59 60 62 63 65 66 68 69 72 73 80 83]\n",
      "The unique values for the primed happy or sad memories is ['H' 'S']\n",
      "The dosage amounts given of each drug are [1 2 3]\n",
      "The coded drug types are ['A' 'S' 'T']\n"
     ]
    }
   ],
   "source": [
    "# Figure out what the unique of the predictor variables in the table are:\n",
    "print('The unique last names are', islanders.last_name.unique())\n",
    "print('The ages of the islanders in this dataset is', np.sort(islanders.age.unique()))\n",
    "print('The unique values for the primed happy or sad memories is', islanders.Happy_Sad_group.unique())\n",
    "print('The dosage amounts given of each drug are', islanders.Dosage.unique())\n",
    "print('The coded drug types are', islanders.Drug.unique())"
   ]
  },
  {
   "cell_type": "code",
   "execution_count": 27,
   "metadata": {},
   "outputs": [
    {
     "data": {
      "image/png": "[encoded data removed]",
      "text/plain": [
       "<Figure size 864x864 with 6 Axes>"
      ]
     },
     "metadata": {
      "needs_background": "light"
     },
     "output_type": "display_data"
    }
   ],
   "source": [
    "pd.DataFrame.hist(islanders, figsize = (12,12))\n",
    "plt.savefig('project_imgs/contin_hists.jpg', pad_inches = 0.1)\n",
    "plt.show()"
   ]
  },
  {
   "cell_type": "code",
   "execution_count": 29,
   "metadata": {},
   "outputs": [
    {
     "data": {
      "image/png": "[encoded data removed]",
      "text/plain": [
       "<Figure size 576x288 with 1 Axes>"
      ]
     },
     "metadata": {
      "needs_background": "light"
     },
     "output_type": "display_data"
    }
   ],
   "source": [
    "last_names = islanders.groupby('last_name').count().reset_index()\n",
    "last_names = last_names[['last_name', 'first_name']]\n",
    "last_names.columns = ['last_name', 'count']\n",
    "ax0 = last_names.plot.barh(x='last_name', y='count', figsize = (8,4))\n",
    "plt.savefig('project_imgs/amt_by_last_name.jpg', pad_inches = 0.1)\n",
    "plt.show()"
   ]
  },
  {
   "cell_type": "code",
   "execution_count": 31,
   "metadata": {},
   "outputs": [
    {
     "data": {
      "image/png": "[encoded data removed]",
      "text/plain": [
       "<Figure size 576x288 with 1 Axes>"
      ]
     },
     "metadata": {
      "needs_background": "light"
     },
     "output_type": "display_data"
    }
   ],
   "source": [
    "happy_sad = islanders.groupby('Happy_Sad_group').count().reset_index()\n",
    "happy_sad = happy_sad[['Happy_Sad_group', 'last_name']]\n",
    "happy_sad.columns = ['Happy_Sad_group', 'count']\n",
    "ax1 = happy_sad.plot.barh(x='Happy_Sad_group', y='count', figsize = (8,4))\n",
    "plt.savefig('project_imgs/primed_thoughts.jpg', pad_inches = 0.1)\n",
    "plt.show()"
   ]
  },
  {
   "cell_type": "code",
   "execution_count": 32,
   "metadata": {},
   "outputs": [
    {
     "data": {
      "image/png": "[encoded data removed]",
      "text/plain": [
       "<Figure size 576x288 with 1 Axes>"
      ]
     },
     "metadata": {
      "needs_background": "light"
     },
     "output_type": "display_data"
    }
   ],
   "source": [
    "drug = islanders.groupby('Drug').count().reset_index()\n",
    "drug = drug[['Drug', 'last_name']]\n",
    "drug.columns = ['Drug', 'count']\n",
    "ax2 = drug.plot.barh(x='Drug', y='count', figsize = (8,4))\n",
    "plt.savefig('project_imgs/drug_type.jpg', pad_inches = 0.1)\n",
    "plt.show()"
   ]
  }
 ],
 "metadata": {
  "kernelspec": {
   "display_name": "Python 3",
   "language": "python",
   "name": "python3"
  },
  "language_info": {
   "codemirror_mode": {
    "name": "ipython",
    "version": 3
   },
   "file_extension": ".py",
   "mimetype": "text/x-python",
   "name": "python",
   "nbconvert_exporter": "python",
   "pygments_lexer": "ipython3",
   "version": "3.6.9"
  }
 },
 "nbformat": 4,
 "nbformat_minor": 2
}
