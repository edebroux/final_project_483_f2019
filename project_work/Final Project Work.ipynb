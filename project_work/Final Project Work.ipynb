{
 "cells": [
  {
   "cell_type": "markdown",
   "metadata": {},
   "source": [
    "## Memory Test on Drugged Islanders Experiment Analysis\n",
    "__Project Description:__\n",
    "\n",
    "An experiment on the effects of anti-anxiety medicine on memory recall when being primed with happy or sad memories. The participants were done on novel Islanders whom mimic real-life humans in response to external factors.\n",
    "\n",
    "Drugs of interest (known-as) [Dosage 1, 2, 3]: A - Alprazolam (Xanax, Long-term) [1mg/3mg/5mg] T - Triazolam (Halcion, Short-term) [0.25mg/0.5mg/0.75mg] S- Sugar Tablet (Placebo) [1 tab/2tabs/3tabs]\n",
    "\n",
    "- Dosages follow a 1:1 ratio to ensure validity \n",
    "- Happy or Sad memories were primed 10 minutes prior to testing \n",
    "- Participants tested every day for 1 week to mimic addiction\n",
    "\n",
    "Building the Case: Obstructive effects of Benzodiazepines (Anti-Anxiety Medicine): - Long term adverse effects on Long Term Potentiation of synapses, metacognition and memory recall ability http://www.jstor.org/stable/43854146\n",
    "\n",
    "Happy Memories: - research shown positive memories to have a deeper and greater volume of striatum representation under an fMRI https://www.sciencedirect.com/science/article/pii/S0896627314008484\n",
    "\n",
    "Sad Memories: - research shown sad memories invokes better memory recall for evolutionary purpose whereas, happy memories are more susceptible to false memories http://www.jstor.org/stable/40064315\n",
    "\n",
    "Participants - all genders above 25+ years old to ensure a fully developed pre-frontal cortex, a region responsible for higher level cognition and memory recall.\n",
    "\n",
    "__Questions to be answered:__\n",
    "\n",
    "How does anti-anxiety medicine affect you differently by age? Is there a level of plateauing in effectiveness of anti-anxiety medicine - if so, at what point? Effect of anti-anxiety medicine on memory recall? Effectiveness of placebos in a test environment?\n",
    "\n",
    "Link to data for future reference: https://www.kaggle.com/steveahn/memory-test-on-drugged-islanders-data"
   ]
  },
  {
   "cell_type": "code",
   "execution_count": 1,
   "metadata": {},
   "outputs": [],
   "source": [
    "import numpy as np\n",
    "import matplotlib.pyplot as plt\n",
    "import matplotlib as mpl\n",
    "import pandas as pd\n",
    "import statsmodels.api as sms\n",
    "import statsmodels.formula.api as smsf\n",
    "import scipy.stats as stats\n",
    "import sklearn\n",
    "import pyDOE as pydoe\n",
    "import pyDOE2 as pydoe2\n",
    "from statsmodels.graphics.factorplots import interaction_plot\n",
    "from mpl_toolkits.mplot3d import Axes3D\n",
    "from statsmodels.graphics.gofplots import ProbPlot\n",
    "import patsy as pt"
   ]
  },
  {
   "cell_type": "code",
   "execution_count": 2,
   "metadata": {},
   "outputs": [
    {
     "data": {
      "text/html": [
       "<div>\n",
       "<style scoped>\n",
       "    .dataframe tbody tr th:only-of-type {\n",
       "        vertical-align: middle;\n",
       "    }\n",
       "\n",
       "    .dataframe tbody tr th {\n",
       "        vertical-align: top;\n",
       "    }\n",
       "\n",
       "    .dataframe thead th {\n",
       "        text-align: right;\n",
       "    }\n",
       "</style>\n",
       "<table border=\"1\" class=\"dataframe\">\n",
       "  <thead>\n",
       "    <tr style=\"text-align: right;\">\n",
       "      <th></th>\n",
       "      <th>first_name</th>\n",
       "      <th>last_name</th>\n",
       "      <th>age</th>\n",
       "      <th>Happy_Sad_group</th>\n",
       "      <th>Dosage</th>\n",
       "      <th>Drug</th>\n",
       "      <th>Mem_Score_Before</th>\n",
       "      <th>Mem_Score_After</th>\n",
       "      <th>Diff</th>\n",
       "    </tr>\n",
       "  </thead>\n",
       "  <tbody>\n",
       "    <tr>\n",
       "      <th>0</th>\n",
       "      <td>Bastian</td>\n",
       "      <td>Carrasco</td>\n",
       "      <td>25</td>\n",
       "      <td>H</td>\n",
       "      <td>1</td>\n",
       "      <td>A</td>\n",
       "      <td>63.5</td>\n",
       "      <td>61.2</td>\n",
       "      <td>-2.3</td>\n",
       "    </tr>\n",
       "    <tr>\n",
       "      <th>1</th>\n",
       "      <td>Evan</td>\n",
       "      <td>Carrasco</td>\n",
       "      <td>52</td>\n",
       "      <td>S</td>\n",
       "      <td>1</td>\n",
       "      <td>A</td>\n",
       "      <td>41.6</td>\n",
       "      <td>40.7</td>\n",
       "      <td>-0.9</td>\n",
       "    </tr>\n",
       "    <tr>\n",
       "      <th>2</th>\n",
       "      <td>Florencia</td>\n",
       "      <td>Carrasco</td>\n",
       "      <td>29</td>\n",
       "      <td>H</td>\n",
       "      <td>1</td>\n",
       "      <td>A</td>\n",
       "      <td>59.7</td>\n",
       "      <td>55.1</td>\n",
       "      <td>-4.6</td>\n",
       "    </tr>\n",
       "    <tr>\n",
       "      <th>3</th>\n",
       "      <td>Holly</td>\n",
       "      <td>Carrasco</td>\n",
       "      <td>50</td>\n",
       "      <td>S</td>\n",
       "      <td>1</td>\n",
       "      <td>A</td>\n",
       "      <td>51.7</td>\n",
       "      <td>51.2</td>\n",
       "      <td>-0.5</td>\n",
       "    </tr>\n",
       "    <tr>\n",
       "      <th>4</th>\n",
       "      <td>Justin</td>\n",
       "      <td>Carrasco</td>\n",
       "      <td>52</td>\n",
       "      <td>H</td>\n",
       "      <td>1</td>\n",
       "      <td>A</td>\n",
       "      <td>47.0</td>\n",
       "      <td>47.1</td>\n",
       "      <td>0.1</td>\n",
       "    </tr>\n",
       "    <tr>\n",
       "      <th>5</th>\n",
       "      <td>Liam</td>\n",
       "      <td>Carrasco</td>\n",
       "      <td>37</td>\n",
       "      <td>S</td>\n",
       "      <td>1</td>\n",
       "      <td>A</td>\n",
       "      <td>66.4</td>\n",
       "      <td>58.1</td>\n",
       "      <td>-8.3</td>\n",
       "    </tr>\n",
       "    <tr>\n",
       "      <th>6</th>\n",
       "      <td>Ava</td>\n",
       "      <td>Durand</td>\n",
       "      <td>35</td>\n",
       "      <td>S</td>\n",
       "      <td>1</td>\n",
       "      <td>A</td>\n",
       "      <td>44.1</td>\n",
       "      <td>56.0</td>\n",
       "      <td>11.9</td>\n",
       "    </tr>\n",
       "    <tr>\n",
       "      <th>7</th>\n",
       "      <td>Jamie</td>\n",
       "      <td>Durand</td>\n",
       "      <td>38</td>\n",
       "      <td>H</td>\n",
       "      <td>1</td>\n",
       "      <td>A</td>\n",
       "      <td>76.3</td>\n",
       "      <td>74.8</td>\n",
       "      <td>-1.5</td>\n",
       "    </tr>\n",
       "    <tr>\n",
       "      <th>8</th>\n",
       "      <td>Josefa</td>\n",
       "      <td>Durand</td>\n",
       "      <td>29</td>\n",
       "      <td>H</td>\n",
       "      <td>1</td>\n",
       "      <td>A</td>\n",
       "      <td>56.2</td>\n",
       "      <td>45.0</td>\n",
       "      <td>-11.2</td>\n",
       "    </tr>\n",
       "    <tr>\n",
       "      <th>9</th>\n",
       "      <td>Mark</td>\n",
       "      <td>Durand</td>\n",
       "      <td>36</td>\n",
       "      <td>S</td>\n",
       "      <td>1</td>\n",
       "      <td>A</td>\n",
       "      <td>54.8</td>\n",
       "      <td>75.9</td>\n",
       "      <td>21.1</td>\n",
       "    </tr>\n",
       "  </tbody>\n",
       "</table>\n",
       "</div>"
      ],
      "text/plain": [
       "  first_name last_name  age Happy_Sad_group  Dosage Drug  Mem_Score_Before  \\\n",
       "0    Bastian  Carrasco   25               H       1    A              63.5   \n",
       "1       Evan  Carrasco   52               S       1    A              41.6   \n",
       "2  Florencia  Carrasco   29               H       1    A              59.7   \n",
       "3      Holly  Carrasco   50               S       1    A              51.7   \n",
       "4     Justin  Carrasco   52               H       1    A              47.0   \n",
       "5       Liam  Carrasco   37               S       1    A              66.4   \n",
       "6        Ava    Durand   35               S       1    A              44.1   \n",
       "7      Jamie    Durand   38               H       1    A              76.3   \n",
       "8     Josefa    Durand   29               H       1    A              56.2   \n",
       "9       Mark    Durand   36               S       1    A              54.8   \n",
       "\n",
       "   Mem_Score_After  Diff  \n",
       "0             61.2  -2.3  \n",
       "1             40.7  -0.9  \n",
       "2             55.1  -4.6  \n",
       "3             51.2  -0.5  \n",
       "4             47.1   0.1  \n",
       "5             58.1  -8.3  \n",
       "6             56.0  11.9  \n",
       "7             74.8  -1.5  \n",
       "8             45.0 -11.2  \n",
       "9             75.9  21.1  "
      ]
     },
     "execution_count": 2,
     "metadata": {},
     "output_type": "execute_result"
    }
   ],
   "source": [
    "# Load the data\n",
    "islanders = pd.read_csv('datasets/Islander_data.csv', encoding = 'ISO-8859-1')\n",
    "islanders.head(10)"
   ]
  },
  {
   "cell_type": "code",
   "execution_count": 3,
   "metadata": {},
   "outputs": [
    {
     "name": "stdout",
     "output_type": "stream",
     "text": [
      "The unique last names are ['Carrasco' 'Durand' 'Gonzalez' 'Kennedy' 'Lopez' 'McCarthy' 'Morin'\n",
      " 'Price' 'Summers' 'Takahashi' 'Bernard' 'Hajek' 'Rodriguez' 'Steiner'\n",
      " 'Connolly' 'Castro' 'Fiala' 'Novak']\n",
      "The ages of the islanders in this dataset is [24 25 26 27 28 29 30 31 32 33 34 35 36 37 38 39 40 41 42 43 44 45 46 47\n",
      " 48 49 50 51 52 53 54 55 56 59 60 62 63 65 66 68 69 72 73 80 83]\n",
      "The unique values for the primed happy or sad memories is ['H' 'S']\n",
      "The dosage amounts given of each drug are [1 2 3]\n",
      "The coded drug types are ['A' 'S' 'T']\n"
     ]
    }
   ],
   "source": [
    "# Figure out what the unique of the predictor variables in the table are:\n",
    "print('The unique last names are', islanders.last_name.unique())\n",
    "print('The ages of the islanders in this dataset is', np.sort(islanders.age.unique()))\n",
    "print('The unique values for the primed happy or sad memories is', islanders.Happy_Sad_group.unique())\n",
    "print('The dosage amounts given of each drug are', islanders.Dosage.unique())\n",
    "print('The coded drug types are', islanders.Drug.unique())"
   ]
  },
  {
   "cell_type": "code",
   "execution_count": 4,
   "metadata": {},
   "outputs": [
    {
     "data": {
      "image/png": "[encoded data removed]",
      "text/plain": [
       "<Figure size 864x864 with 6 Axes>"
      ]
     },
     "metadata": {
      "needs_background": "light"
     },
     "output_type": "display_data"
    }
   ],
   "source": [
    "pd.DataFrame.hist(islanders, figsize = (12,12))\n",
    "plt.savefig('project_imgs/contin_hists.jpg', pad_inches = 0.1)\n",
    "plt.show()"
   ]
  },
  {
   "cell_type": "code",
   "execution_count": 5,
   "metadata": {},
   "outputs": [
    {
     "data": {
      "image/png": "[encoded data removed]",
      "text/plain": [
       "<Figure size 576x288 with 1 Axes>"
      ]
     },
     "metadata": {
      "needs_background": "light"
     },
     "output_type": "display_data"
    }
   ],
   "source": [
    "last_names = islanders.groupby('last_name').count().reset_index()\n",
    "last_names = last_names[['last_name', 'first_name']]\n",
    "last_names.columns = ['last_name', 'count']\n",
    "ax0 = last_names.plot.barh(x='last_name', y='count', figsize = (8,4))\n",
    "plt.savefig('project_imgs/amt_by_last_name.jpg', pad_inches = 0.1)\n",
    "plt.show()"
   ]
  },
  {
   "cell_type": "code",
   "execution_count": 6,
   "metadata": {},
   "outputs": [
    {
     "data": {
      "image/png": "[encoded data removed]",
      "text/plain": [
       "<Figure size 576x288 with 1 Axes>"
      ]
     },
     "metadata": {
      "needs_background": "light"
     },
     "output_type": "display_data"
    }
   ],
   "source": [
    "happy_sad = islanders.groupby('Happy_Sad_group').count().reset_index()\n",
    "happy_sad = happy_sad[['Happy_Sad_group', 'last_name']]\n",
    "happy_sad.columns = ['Happy_Sad_group', 'count']\n",
    "ax1 = happy_sad.plot.barh(x='Happy_Sad_group', y='count', figsize = (8,4))\n",
    "plt.savefig('project_imgs/primed_thoughts.jpg', pad_inches = 0.1)\n",
    "plt.show()"
   ]
  },
  {
   "cell_type": "code",
   "execution_count": 7,
   "metadata": {},
   "outputs": [
    {
     "data": {
      "image/png": "[encoded data removed]",
      "text/plain": [
       "<Figure size 576x288 with 1 Axes>"
      ]
     },
     "metadata": {
      "needs_background": "light"
     },
     "output_type": "display_data"
    }
   ],
   "source": [
    "drug = islanders.groupby('Drug').count().reset_index()\n",
    "drug = drug[['Drug', 'last_name']]\n",
    "drug.columns = ['Drug', 'count']\n",
    "ax2 = drug.plot.barh(x='Drug', y='count', figsize = (8,4))\n",
    "plt.savefig('project_imgs/drug_type.jpg', pad_inches = 0.1)\n",
    "plt.show()"
   ]
  },
  {
   "cell_type": "markdown",
   "metadata": {},
   "source": [
    "It appears we have fairly balanced levels of treatments. We need to effectively analyze the effects of these categorical and continuous variables. The dimension of our data is:"
   ]
  },
  {
   "cell_type": "code",
   "execution_count": 8,
   "metadata": {},
   "outputs": [
    {
     "name": "stdout",
     "output_type": "stream",
     "text": [
      "(198, 9)\n"
     ]
    }
   ],
   "source": [
    "print(islanders.values.shape)"
   ]
  },
  {
   "cell_type": "markdown",
   "metadata": {},
   "source": [
    "Matrix for linear model we are about to fit:"
   ]
  },
  {
   "cell_type": "code",
   "execution_count": 9,
   "metadata": {},
   "outputs": [
    {
     "name": "stdout",
     "output_type": "stream",
     "text": [
      "[[ -2.3]\n",
      " [ -0.9]\n",
      " [ -4.6]\n",
      " [ -0.5]\n",
      " [  0.1]\n",
      " [ -8.3]\n",
      " [ 11.9]\n",
      " [ -1.5]\n",
      " [-11.2]\n",
      " [ 21.1]]\n",
      "[[1. 0. 1. 0. 1. 0. 1. 0. 0. 0.]\n",
      " [1. 1. 1. 0. 1. 0. 1. 0. 0. 0.]\n",
      " [1. 0. 1. 0. 1. 0. 1. 0. 0. 0.]\n",
      " [1. 1. 1. 0. 1. 0. 1. 0. 0. 0.]\n",
      " [1. 0. 1. 0. 1. 0. 1. 0. 0. 0.]\n",
      " [1. 1. 1. 0. 1. 0. 1. 0. 0. 0.]\n",
      " [1. 1. 1. 0. 1. 0. 1. 0. 0. 0.]\n",
      " [1. 0. 1. 0. 1. 0. 1. 0. 0. 0.]\n",
      " [1. 0. 1. 0. 1. 0. 1. 0. 0. 0.]\n",
      " [1. 1. 1. 0. 1. 0. 1. 0. 0. 0.]]\n"
     ]
    }
   ],
   "source": [
    "y, X = pt.dmatrices('Diff~Happy_Sad_group+C(Dosage, Sum)+C(Drug, Sum)+C(Dosage, Sum)*C(Drug, Sum)',\n",
    "                       islanders, return_type='matrix')\n",
    "print(y[:10])\n",
    "print(X[:10])"
   ]
  },
  {
   "cell_type": "markdown",
   "metadata": {},
   "source": [
    "Okay, we see that some of the columns will probably be completely useless to this analysis, such as the first name. It is unlikely that the last name of the islanders will be effectual in the analysis of the data unless there is some unknown familial effect that we do not know about. Since do not have that information, we will have to assume that there is no sort of familial neurological quirks that could potentially affect the response.\n",
    "\n",
    "Age is not something we can control for either. Since we cannot assign treatments based on the age of the patient, as this introduces a ton of bias and is unethical, we can only randomize the treatment to balance out age's effect on participants' response time. So, with that we will try to analyze the effect of the drug type and dosage on the memory score after drug addiction was achieved and the difference in memory scores before and after taking the drug."
   ]
  },
  {
   "cell_type": "markdown",
   "metadata": {},
   "source": [
    "#### ANOVA for After Drug Addiction\n",
    "We attempt to fit a lienar model of the difference in memory scores using the type of memory the participants were primed with, either happy or sad. This will be a block effect that we have to account for. The dosage of the drug the patients took, either 1, 2, or 3, and then the interaction between drug dosage and drug administered. We treat the dosage as a categorical variable because the amount of drug administered is not equivalent for each drug. This experiment is a $3^2$ factorial experiment."
   ]
  },
  {
   "cell_type": "code",
   "execution_count": 10,
   "metadata": {
    "scrolled": false
   },
   "outputs": [
    {
     "name": "stdout",
     "output_type": "stream",
     "text": [
      "                            OLS Regression Results                            \n",
      "==============================================================================\n",
      "Dep. Variable:                   Diff   R-squared:                       0.469\n",
      "Model:                            OLS   Adj. R-squared:                  0.444\n",
      "Method:                 Least Squares   F-statistic:                     18.45\n",
      "Date:                Sat, 30 Nov 2019   Prob (F-statistic):           8.03e-22\n",
      "Time:                        21:39:32   Log-Likelihood:                -688.10\n",
      "No. Observations:                 198   AIC:                             1396.\n",
      "Df Residuals:                     188   BIC:                             1429.\n",
      "Df Model:                           9                                         \n",
      "Covariance Type:            nonrobust                                         \n",
      "=========================================================================================================\n",
      "                                            coef    std err          t      P>|t|      [0.025      0.975]\n",
      "---------------------------------------------------------------------------------------------------------\n",
      "Intercept                                 2.7333      0.806      3.390      0.001       1.143       4.324\n",
      "Happy_Sad_group[T.S]                      0.4221      1.141      0.370      0.712      -1.828       2.672\n",
      "C(Dosage, Sum)[S.1]                      -2.4642      0.804     -3.067      0.002      -4.049      -0.879\n",
      "C(Dosage, Sum)[S.2]                      -0.8520      0.806     -1.057      0.292      -2.443       0.739\n",
      "C(Drug, Sum)[S.A]                         6.6616      0.804      8.291      0.000       5.077       8.247\n",
      "C(Drug, Sum)[S.S]                        -3.1156      0.806     -3.864      0.000      -4.706      -1.525\n",
      "C(Dosage, Sum)[S.1]:C(Drug, Sum)[S.A]    -6.8466      1.130     -6.059      0.000      -9.076      -4.618\n",
      "C(Dosage, Sum)[S.2]:C(Drug, Sum)[S.A]    -2.8722      1.138     -2.523      0.012      -5.118      -0.627\n",
      "C(Dosage, Sum)[S.1]:C(Drug, Sum)[S.S]     5.0218      1.138      4.412      0.000       2.776       7.267\n",
      "C(Dosage, Sum)[S.2]:C(Drug, Sum)[S.S]     0.2686      1.140      0.236      0.814      -1.981       2.518\n",
      "==============================================================================\n",
      "Omnibus:                       29.694   Durbin-Watson:                   2.112\n",
      "Prob(Omnibus):                  0.000   Jarque-Bera (JB):              119.731\n",
      "Skew:                          -0.451   Prob(JB):                     1.00e-26\n",
      "Kurtosis:                       6.701   Cond. No.                         3.42\n",
      "==============================================================================\n",
      "\n",
      "Warnings:\n",
      "[1] Standard Errors assume that the covariance matrix of the errors is correctly specified.\n"
     ]
    }
   ],
   "source": [
    "# Block + Dosage + Drug Type + Interaction between Dosage and Drug Type\n",
    "lm_msa = smsf.ols('Diff~Happy_Sad_group+C(Dosage, Sum)+C(Drug, Sum)+C(Dosage, Sum)*C(Drug, Sum)', data = islanders).fit()\n",
    "print(lm_msa.summary())"
   ]
  },
  {
   "cell_type": "code",
   "execution_count": 11,
   "metadata": {},
   "outputs": [
    {
     "data": {
      "text/html": [
       "<div>\n",
       "<style scoped>\n",
       "    .dataframe tbody tr th:only-of-type {\n",
       "        vertical-align: middle;\n",
       "    }\n",
       "\n",
       "    .dataframe tbody tr th {\n",
       "        vertical-align: top;\n",
       "    }\n",
       "\n",
       "    .dataframe thead th {\n",
       "        text-align: right;\n",
       "    }\n",
       "</style>\n",
       "<table border=\"1\" class=\"dataframe\">\n",
       "  <thead>\n",
       "    <tr style=\"text-align: right;\">\n",
       "      <th></th>\n",
       "      <th>df</th>\n",
       "      <th>sum_sq</th>\n",
       "      <th>mean_sq</th>\n",
       "      <th>F</th>\n",
       "      <th>PR(&gt;F)</th>\n",
       "    </tr>\n",
       "  </thead>\n",
       "  <tbody>\n",
       "    <tr>\n",
       "      <th>Happy_Sad_group</th>\n",
       "      <td>1.0</td>\n",
       "      <td>9.689091</td>\n",
       "      <td>9.689091</td>\n",
       "      <td>0.150544</td>\n",
       "      <td>6.984550e-01</td>\n",
       "    </tr>\n",
       "    <tr>\n",
       "      <th>C(Dosage, Sum)</th>\n",
       "      <td>2.0</td>\n",
       "      <td>1224.603642</td>\n",
       "      <td>612.301821</td>\n",
       "      <td>9.513623</td>\n",
       "      <td>1.159451e-04</td>\n",
       "    </tr>\n",
       "    <tr>\n",
       "      <th>C(Drug, Sum)</th>\n",
       "      <td>2.0</td>\n",
       "      <td>4309.257305</td>\n",
       "      <td>2154.628652</td>\n",
       "      <td>33.477483</td>\n",
       "      <td>3.658230e-13</td>\n",
       "    </tr>\n",
       "    <tr>\n",
       "      <th>C(Dosage, Sum):C(Drug, Sum)</th>\n",
       "      <td>4.0</td>\n",
       "      <td>5141.980736</td>\n",
       "      <td>1285.495184</td>\n",
       "      <td>19.973346</td>\n",
       "      <td>1.012301e-13</td>\n",
       "    </tr>\n",
       "    <tr>\n",
       "      <th>Residual</th>\n",
       "      <td>188.0</td>\n",
       "      <td>12099.780135</td>\n",
       "      <td>64.360533</td>\n",
       "      <td>NaN</td>\n",
       "      <td>NaN</td>\n",
       "    </tr>\n",
       "  </tbody>\n",
       "</table>\n",
       "</div>"
      ],
      "text/plain": [
       "                                df        sum_sq      mean_sq          F  \\\n",
       "Happy_Sad_group                1.0      9.689091     9.689091   0.150544   \n",
       "C(Dosage, Sum)                 2.0   1224.603642   612.301821   9.513623   \n",
       "C(Drug, Sum)                   2.0   4309.257305  2154.628652  33.477483   \n",
       "C(Dosage, Sum):C(Drug, Sum)    4.0   5141.980736  1285.495184  19.973346   \n",
       "Residual                     188.0  12099.780135    64.360533        NaN   \n",
       "\n",
       "                                   PR(>F)  \n",
       "Happy_Sad_group              6.984550e-01  \n",
       "C(Dosage, Sum)               1.159451e-04  \n",
       "C(Drug, Sum)                 3.658230e-13  \n",
       "C(Dosage, Sum):C(Drug, Sum)  1.012301e-13  \n",
       "Residual                              NaN  "
      ]
     },
     "execution_count": 11,
     "metadata": {},
     "output_type": "execute_result"
    }
   ],
   "source": [
    "lm_table = sms.stats.anova_lm(lm_msa, typ = 1)\n",
    "lm_table"
   ]
  },
  {
   "cell_type": "markdown",
   "metadata": {},
   "source": [
    "Based on the output of the model, we can see that the dosage, drug, and their interaction effects are significant at an $\\alpha = 0.05$ significance level. The block effect, `Happy_Sad_group`, has an insignificant effect, as its respective p-value is `0.698455`, which is significantly larger than $\\alpha = 0.05$. We want to look significant differences in the 9 different treatment combinations. We will do this by using a Tukey test.\n",
    "#### Tukey Test\n",
    "The test is run as follows:\n",
    "\n",
    "H<sub>0</sub>: $\\mu_i = \\mu_j$\n",
    "\n",
    "H<sub>1</sub>: $\\mu_i \\neq \\mu_j$\n",
    "\n",
    "It uses the studentized range statistic:\n",
    "\n",
    "$q = \\frac{\\bar{y_{max}} - \\bar{y_{min}}}{\\sqrt{MS_{error}/n}}$\n",
    "\n",
    "Two means are different if the absolute value of their sample mean differences exceeds:\n",
    "\n",
    "$T_{\\alpha} = q_{\\alpha}(a, f)\\sqrt{\\frac{MS_{error}}{n}}$\n",
    "\n",
    "where $a$ is the number of parameters and $f = N - a$. This is how the test for the drug dosage and drug type are run. The Tukey test for the interactions is the same, but now we have $a*b$ different treatment combinations and $f = N - ab$."
   ]
  },
  {
   "cell_type": "code",
   "execution_count": 12,
   "metadata": {},
   "outputs": [],
   "source": [
    "# Getting the pairwise differences for drugs\n",
    "from statsmodels.stats.multicomp import pairwise_tukeyhsd\n",
    "from statsmodels.stats.multicomp import MultiComparison"
   ]
  },
  {
   "cell_type": "code",
   "execution_count": 13,
   "metadata": {},
   "outputs": [
    {
     "name": "stdout",
     "output_type": "stream",
     "text": [
      "Multiple Comparison of Means - Tukey HSD, FWER=0.05 \n",
      "====================================================\n",
      "group1 group2 meandiff p-adj  lower    upper  reject\n",
      "----------------------------------------------------\n",
      "     A      S  -9.6414 0.001  -13.629 -5.6537   True\n",
      "     A      T -10.0578 0.001 -14.0609 -6.0547   True\n",
      "     S      T  -0.4165   0.9  -4.4345  3.6015  False\n",
      "----------------------------------------------------\n"
     ]
    }
   ],
   "source": [
    "mc1 = MultiComparison(islanders['Diff'], islanders['Drug'])\n",
    "result1 = mc1.tukeyhsd()\n",
    "print(result1)"
   ]
  },
  {
   "cell_type": "code",
   "execution_count": 14,
   "metadata": {},
   "outputs": [
    {
     "name": "stdout",
     "output_type": "stream",
     "text": [
      "Multiple Comparison of Means - Tukey HSD, FWER=0.05 \n",
      "====================================================\n",
      "group1 group2 meandiff p-adj   lower   upper  reject\n",
      "----------------------------------------------------\n",
      "     1      2   1.6118 0.6389 -2.6956  5.9193  False\n",
      "     1      3   5.8994 0.0042  1.5753 10.2235   True\n",
      "     2      3   4.2876 0.0537 -0.0527  8.6278  False\n",
      "----------------------------------------------------\n"
     ]
    }
   ],
   "source": [
    "# Differences in Dosage\n",
    "mc2 = MultiComparison(islanders['Diff'], islanders['Dosage'])\n",
    "result2 = mc2.tukeyhsd()\n",
    "print(result2)"
   ]
  },
  {
   "cell_type": "code",
   "execution_count": 15,
   "metadata": {},
   "outputs": [
    {
     "data": {
      "text/html": [
       "<div>\n",
       "<style scoped>\n",
       "    .dataframe tbody tr th:only-of-type {\n",
       "        vertical-align: middle;\n",
       "    }\n",
       "\n",
       "    .dataframe tbody tr th {\n",
       "        vertical-align: top;\n",
       "    }\n",
       "\n",
       "    .dataframe thead th {\n",
       "        text-align: right;\n",
       "    }\n",
       "</style>\n",
       "<table border=\"1\" class=\"dataframe\">\n",
       "  <thead>\n",
       "    <tr style=\"text-align: right;\">\n",
       "      <th></th>\n",
       "      <th>first_name</th>\n",
       "      <th>last_name</th>\n",
       "      <th>age</th>\n",
       "      <th>Happy_Sad_group</th>\n",
       "      <th>Dosage</th>\n",
       "      <th>Drug</th>\n",
       "      <th>Mem_Score_Before</th>\n",
       "      <th>Mem_Score_After</th>\n",
       "      <th>Diff</th>\n",
       "      <th>Combination</th>\n",
       "    </tr>\n",
       "  </thead>\n",
       "  <tbody>\n",
       "    <tr>\n",
       "      <th>0</th>\n",
       "      <td>Bastian</td>\n",
       "      <td>Carrasco</td>\n",
       "      <td>25</td>\n",
       "      <td>H</td>\n",
       "      <td>1</td>\n",
       "      <td>A</td>\n",
       "      <td>63.5</td>\n",
       "      <td>61.2</td>\n",
       "      <td>-2.3</td>\n",
       "      <td>A1</td>\n",
       "    </tr>\n",
       "    <tr>\n",
       "      <th>1</th>\n",
       "      <td>Evan</td>\n",
       "      <td>Carrasco</td>\n",
       "      <td>52</td>\n",
       "      <td>S</td>\n",
       "      <td>1</td>\n",
       "      <td>A</td>\n",
       "      <td>41.6</td>\n",
       "      <td>40.7</td>\n",
       "      <td>-0.9</td>\n",
       "      <td>A1</td>\n",
       "    </tr>\n",
       "    <tr>\n",
       "      <th>2</th>\n",
       "      <td>Florencia</td>\n",
       "      <td>Carrasco</td>\n",
       "      <td>29</td>\n",
       "      <td>H</td>\n",
       "      <td>1</td>\n",
       "      <td>A</td>\n",
       "      <td>59.7</td>\n",
       "      <td>55.1</td>\n",
       "      <td>-4.6</td>\n",
       "      <td>A1</td>\n",
       "    </tr>\n",
       "    <tr>\n",
       "      <th>3</th>\n",
       "      <td>Holly</td>\n",
       "      <td>Carrasco</td>\n",
       "      <td>50</td>\n",
       "      <td>S</td>\n",
       "      <td>1</td>\n",
       "      <td>A</td>\n",
       "      <td>51.7</td>\n",
       "      <td>51.2</td>\n",
       "      <td>-0.5</td>\n",
       "      <td>A1</td>\n",
       "    </tr>\n",
       "    <tr>\n",
       "      <th>4</th>\n",
       "      <td>Justin</td>\n",
       "      <td>Carrasco</td>\n",
       "      <td>52</td>\n",
       "      <td>H</td>\n",
       "      <td>1</td>\n",
       "      <td>A</td>\n",
       "      <td>47.0</td>\n",
       "      <td>47.1</td>\n",
       "      <td>0.1</td>\n",
       "      <td>A1</td>\n",
       "    </tr>\n",
       "  </tbody>\n",
       "</table>\n",
       "</div>"
      ],
      "text/plain": [
       "  first_name last_name  age Happy_Sad_group  Dosage Drug  Mem_Score_Before  \\\n",
       "0    Bastian  Carrasco   25               H       1    A              63.5   \n",
       "1       Evan  Carrasco   52               S       1    A              41.6   \n",
       "2  Florencia  Carrasco   29               H       1    A              59.7   \n",
       "3      Holly  Carrasco   50               S       1    A              51.7   \n",
       "4     Justin  Carrasco   52               H       1    A              47.0   \n",
       "\n",
       "   Mem_Score_After  Diff Combination  \n",
       "0             61.2  -2.3          A1  \n",
       "1             40.7  -0.9          A1  \n",
       "2             55.1  -4.6          A1  \n",
       "3             51.2  -0.5          A1  \n",
       "4             47.1   0.1          A1  "
      ]
     },
     "execution_count": 15,
     "metadata": {},
     "output_type": "execute_result"
    }
   ],
   "source": [
    "# Differences in Dosage and Drug Combinations\n",
    "islanders['Combination'] = islanders['Drug'].astype(str) + islanders['Dosage'].astype(str)\n",
    "islanders.head()"
   ]
  },
  {
   "cell_type": "code",
   "execution_count": 16,
   "metadata": {},
   "outputs": [
    {
     "name": "stdout",
     "output_type": "stream",
     "text": [
      " Multiple Comparison of Means - Tukey HSD, FWER=0.05  \n",
      "======================================================\n",
      "group1 group2 meandiff p-adj   lower    upper   reject\n",
      "------------------------------------------------------\n",
      "    A1     A2   5.5775 0.3256   -1.913  13.0679  False\n",
      "    A1     A3  22.3366  0.001  14.8461   29.827   True\n",
      "    A1     S1    2.082    0.9  -5.4084   9.5724  False\n",
      "    A1     S2  -1.0589    0.9  -8.5493   6.4315  False\n",
      "    A1     S3  -2.4498    0.9  -9.9402   5.0406  False\n",
      "    A1     T1  -1.5453    0.9  -9.0357   5.9452  False\n",
      "    A1     T2   0.8457    0.9  -6.6448   8.3361  False\n",
      "    A1     T3  -2.0282    0.9  -9.6092   5.5529  False\n",
      "    A2     A3  16.7591  0.001   9.1859  24.3323   True\n",
      "    A2     S1  -3.4955 0.8691 -11.0687   4.0777  False\n",
      "    A2     S2  -6.6364 0.1375 -14.2096   0.9368  False\n",
      "    A2     S3  -8.0273 0.0287 -15.6005  -0.4541   True\n",
      "    A2     T1  -7.1227 0.0837 -14.6959   0.4505  False\n",
      "    A2     T2  -4.7318 0.5624  -12.305   2.8414  False\n",
      "    A2     T3  -7.6056 0.0535 -15.2685   0.0572  False\n",
      "    A3     S1 -20.2545  0.001 -27.8277 -12.6813   True\n",
      "    A3     S2 -23.3955  0.001 -30.9687 -15.8223   True\n",
      "    A3     S3 -24.7864  0.001 -32.3596 -17.2132   True\n",
      "    A3     T1 -23.8818  0.001  -31.455 -16.3086   True\n",
      "    A3     T2 -21.4909  0.001 -29.0641 -13.9177   True\n",
      "    A3     T3 -24.3647  0.001 -32.0275 -16.7019   True\n",
      "    S1     S2  -3.1409    0.9 -10.7141   4.4323  False\n",
      "    S1     S3  -4.5318 0.6121  -12.105   3.0414  False\n",
      "    S1     T1  -3.6273 0.8364 -11.2005   3.9459  False\n",
      "    S1     T2  -1.2364    0.9  -8.8096   6.3368  False\n",
      "    S1     T3  -4.1102 0.7285  -11.773   3.5527  False\n",
      "    S2     S3  -1.3909    0.9  -8.9641   6.1823  False\n",
      "    S2     T1  -0.4864    0.9  -8.0596   7.0868  False\n",
      "    S2     T2   1.9045    0.9  -5.6687   9.4777  False\n",
      "    S2     T3  -0.9693    0.9  -8.6321   6.6936  False\n",
      "    S3     T1   0.9045    0.9  -6.6687   8.4777  False\n",
      "    S3     T2   3.2955    0.9  -4.2777  10.8687  False\n",
      "    S3     T3   0.4216    0.9  -7.2412   8.0845  False\n",
      "    T1     T2   2.3909    0.9  -5.1823   9.9641  False\n",
      "    T1     T3  -0.4829    0.9  -8.1457   7.1799  False\n",
      "    T2     T3  -2.8738    0.9 -10.5366    4.789  False\n",
      "------------------------------------------------------\n"
     ]
    }
   ],
   "source": [
    "# Differences in combinations\n",
    "mc3 = MultiComparison(islanders['Diff'], islanders['Combination'])\n",
    "result3 = mc3.tukeyhsd()\n",
    "print(result3)"
   ]
  },
  {
   "cell_type": "markdown",
   "metadata": {},
   "source": [
    "#### Residual Diagnostics\n",
    "We need to make sure that our assumptions are correct about the errors, that they are independent and identically distributed as follows: $\\mathbf{\\epsilon} \\sim \\mathbf{N}(\\mathbf{0}, \\mathbf{\\sigma^2})$. We will do this by checking the normal probability plot of the residuals and various residual plots. We will also run a Bruesch-Pagan test for constant variance."
   ]
  },
  {
   "cell_type": "code",
   "execution_count": 17,
   "metadata": {},
   "outputs": [
    {
     "data": {
      "image/png": "[encoded data removed]",
      "text/plain": [
       "<Figure size 864x864 with 4 Axes>"
      ]
     },
     "metadata": {
      "needs_background": "light"
     },
     "output_type": "display_data"
    }
   ],
   "source": [
    "mod_res = lm_msa.resid\n",
    "mod_preds = lm_msa.predict()\n",
    "# Normal Probability Plot\n",
    "from statsmodels.graphics.gofplots import ProbPlot\n",
    "\n",
    "plt.figure(figsize = (12, 12))\n",
    "plt.subplot(221)\n",
    "res_prob_100m_m = stats.probplot(mod_res, plot= plt)\n",
    "plt.title('Normal Probability Plot of Residuals')\n",
    "plt.ylabel('Residuals')\n",
    "\n",
    "plt.subplot(222)\n",
    "plt.scatter(mod_preds, mod_res, color = 'r')\n",
    "plt.xlabel('Predicted Values')\n",
    "plt.ylabel('Residual Values')\n",
    "plt.title('Fitted Values vs. Residuals')\n",
    "\n",
    "plt.subplot(223)\n",
    "plt.scatter(islanders['Drug'], mod_res, color = 'goldenrod')\n",
    "plt.xlabel('Drug Type')\n",
    "plt.ylabel('Residuals')\n",
    "plt.title('Plot of Drug Type vs. Residuals')\n",
    "\n",
    "plt.subplot(224)\n",
    "plt.scatter(islanders['Dosage'], mod_res, color = 'darkcyan')\n",
    "plt.xlabel('Dosage')\n",
    "plt.xticks([1, 2, 3])\n",
    "plt.ylabel('Residuals')\n",
    "plt.title('Plot of Dosage vs. Residuals')\n",
    "plt.savefig('project_imgs/mod_diagnostics.jpeg')\n",
    "plt.show()"
   ]
  },
  {
   "cell_type": "markdown",
   "metadata": {},
   "source": [
    "Based on these diagnostics, there are some clear outliers such as the prediction that was off by 40. There may be some concern about the normality of the errors as well. We would certainly like to see if this is just a true outlier and only need to investigate the reason for such an outlier, or if there should be any concerns about non-constant variance. We will thus run a Bruesch-Pagan test for constant variance.\n",
    "\n",
    "We regress the function: $log(\\sigma^2_i) = \\gamma_0 + \\gamma_1 x_{i1} + \\gamma_2 x_{i2} + \\gamma_3 x_{i1}x_{i2}$\n",
    "\n",
    "$H_0: \\mathbf{\\gamma}= 0$\n",
    "\n",
    "$H_1: \\mathbf{\\gamma} \\neq 0$\n",
    "\n",
    "Test statistic: $\\frac{SSR^* / 4}{(SSE / n)^2}$\n",
    "\n",
    "Where $SSR^*$ is the regression sum of squares for the log regression of the residuals.\n",
    "\n",
    "Critical value for the rejection region would be $\\chi^2_{\\alpha/2; 3}$, and we will test at an $\\alpha$ = 0.05 level."
   ]
  },
  {
   "cell_type": "code",
   "execution_count": 18,
   "metadata": {},
   "outputs": [
    {
     "name": "stdout",
     "output_type": "stream",
     "text": [
      "The Breusch-Pagan test yields a p-value of:  0.5872865517519477 .\n"
     ]
    }
   ],
   "source": [
    "from statsmodels.stats import diagnostic as dn\n",
    "bp_lm_msa = dn.het_breuschpagan(mod_res, lm_msa.model.exog)\n",
    "print(\"The Breusch-Pagan test yields a p-value of: \", bp_lm_msa[3],\".\")"
   ]
  },
  {
   "cell_type": "markdown",
   "metadata": {},
   "source": [
    "Based on the results of the Breusch-Pagan test, we can say that there is not enough evidence to suggest that the variance is not constant at a significance level of $\\alpha = 0.05$. It appears that even though there is no evidence that there is not constant variance and besides the outliers, the errors appear to be normally distributed. We just have to figure out why these outlying values exist."
   ]
  },
  {
   "cell_type": "code",
   "execution_count": 19,
   "metadata": {},
   "outputs": [],
   "source": [
    "sorted_abs_residuals = np.sort(np.abs(mod_res))[::-1]"
   ]
  },
  {
   "cell_type": "code",
   "execution_count": 20,
   "metadata": {},
   "outputs": [
    {
     "data": {
      "text/html": [
       "<div>\n",
       "<style scoped>\n",
       "    .dataframe tbody tr th:only-of-type {\n",
       "        vertical-align: middle;\n",
       "    }\n",
       "\n",
       "    .dataframe tbody tr th {\n",
       "        vertical-align: top;\n",
       "    }\n",
       "\n",
       "    .dataframe thead th {\n",
       "        text-align: right;\n",
       "    }\n",
       "</style>\n",
       "<table border=\"1\" class=\"dataframe\">\n",
       "  <thead>\n",
       "    <tr style=\"text-align: right;\">\n",
       "      <th></th>\n",
       "      <th>first_name</th>\n",
       "      <th>last_name</th>\n",
       "      <th>age</th>\n",
       "      <th>Happy_Sad_group</th>\n",
       "      <th>Dosage</th>\n",
       "      <th>Drug</th>\n",
       "      <th>Mem_Score_Before</th>\n",
       "      <th>Mem_Score_After</th>\n",
       "      <th>Diff</th>\n",
       "      <th>Combination</th>\n",
       "      <th>res</th>\n",
       "      <th>abs_res</th>\n",
       "    </tr>\n",
       "  </thead>\n",
       "  <tbody>\n",
       "    <tr>\n",
       "      <th>0</th>\n",
       "      <td>Bastian</td>\n",
       "      <td>Carrasco</td>\n",
       "      <td>25</td>\n",
       "      <td>H</td>\n",
       "      <td>1</td>\n",
       "      <td>A</td>\n",
       "      <td>63.5</td>\n",
       "      <td>61.2</td>\n",
       "      <td>-2.3</td>\n",
       "      <td>A1</td>\n",
       "      <td>-2.384105</td>\n",
       "      <td>2.384105</td>\n",
       "    </tr>\n",
       "    <tr>\n",
       "      <th>1</th>\n",
       "      <td>Evan</td>\n",
       "      <td>Carrasco</td>\n",
       "      <td>52</td>\n",
       "      <td>S</td>\n",
       "      <td>1</td>\n",
       "      <td>A</td>\n",
       "      <td>41.6</td>\n",
       "      <td>40.7</td>\n",
       "      <td>-0.9</td>\n",
       "      <td>A1</td>\n",
       "      <td>-1.406237</td>\n",
       "      <td>1.406237</td>\n",
       "    </tr>\n",
       "    <tr>\n",
       "      <th>2</th>\n",
       "      <td>Florencia</td>\n",
       "      <td>Carrasco</td>\n",
       "      <td>29</td>\n",
       "      <td>H</td>\n",
       "      <td>1</td>\n",
       "      <td>A</td>\n",
       "      <td>59.7</td>\n",
       "      <td>55.1</td>\n",
       "      <td>-4.6</td>\n",
       "      <td>A1</td>\n",
       "      <td>-4.684105</td>\n",
       "      <td>4.684105</td>\n",
       "    </tr>\n",
       "    <tr>\n",
       "      <th>3</th>\n",
       "      <td>Holly</td>\n",
       "      <td>Carrasco</td>\n",
       "      <td>50</td>\n",
       "      <td>S</td>\n",
       "      <td>1</td>\n",
       "      <td>A</td>\n",
       "      <td>51.7</td>\n",
       "      <td>51.2</td>\n",
       "      <td>-0.5</td>\n",
       "      <td>A1</td>\n",
       "      <td>-1.006237</td>\n",
       "      <td>1.006237</td>\n",
       "    </tr>\n",
       "    <tr>\n",
       "      <th>4</th>\n",
       "      <td>Justin</td>\n",
       "      <td>Carrasco</td>\n",
       "      <td>52</td>\n",
       "      <td>H</td>\n",
       "      <td>1</td>\n",
       "      <td>A</td>\n",
       "      <td>47.0</td>\n",
       "      <td>47.1</td>\n",
       "      <td>0.1</td>\n",
       "      <td>A1</td>\n",
       "      <td>0.015895</td>\n",
       "      <td>0.015895</td>\n",
       "    </tr>\n",
       "  </tbody>\n",
       "</table>\n",
       "</div>"
      ],
      "text/plain": [
       "  first_name last_name  age Happy_Sad_group  Dosage Drug  Mem_Score_Before  \\\n",
       "0    Bastian  Carrasco   25               H       1    A              63.5   \n",
       "1       Evan  Carrasco   52               S       1    A              41.6   \n",
       "2  Florencia  Carrasco   29               H       1    A              59.7   \n",
       "3      Holly  Carrasco   50               S       1    A              51.7   \n",
       "4     Justin  Carrasco   52               H       1    A              47.0   \n",
       "\n",
       "   Mem_Score_After  Diff Combination       res   abs_res  \n",
       "0             61.2  -2.3          A1 -2.384105  2.384105  \n",
       "1             40.7  -0.9          A1 -1.406237  1.406237  \n",
       "2             55.1  -4.6          A1 -4.684105  4.684105  \n",
       "3             51.2  -0.5          A1 -1.006237  1.006237  \n",
       "4             47.1   0.1          A1  0.015895  0.015895  "
      ]
     },
     "execution_count": 20,
     "metadata": {},
     "output_type": "execute_result"
    }
   ],
   "source": [
    "islanders['res'] = mod_res\n",
    "islanders['abs_res'] = np.abs(mod_res)\n",
    "islanders.head()"
   ]
  },
  {
   "cell_type": "code",
   "execution_count": 21,
   "metadata": {},
   "outputs": [],
   "source": [
    "big_ind1 =  islanders.loc[islanders['abs_res'] == sorted_abs_residuals[0]].index[0]"
   ]
  },
  {
   "cell_type": "code",
   "execution_count": 23,
   "metadata": {},
   "outputs": [
    {
     "data": {
      "text/html": [
       "<div>\n",
       "<style scoped>\n",
       "    .dataframe tbody tr th:only-of-type {\n",
       "        vertical-align: middle;\n",
       "    }\n",
       "\n",
       "    .dataframe tbody tr th {\n",
       "        vertical-align: top;\n",
       "    }\n",
       "\n",
       "    .dataframe thead th {\n",
       "        text-align: right;\n",
       "    }\n",
       "</style>\n",
       "<table border=\"1\" class=\"dataframe\">\n",
       "  <thead>\n",
       "    <tr style=\"text-align: right;\">\n",
       "      <th></th>\n",
       "      <th>first_name</th>\n",
       "      <th>last_name</th>\n",
       "      <th>age</th>\n",
       "      <th>Happy_Sad_group</th>\n",
       "      <th>Dosage</th>\n",
       "      <th>Drug</th>\n",
       "      <th>Mem_Score_Before</th>\n",
       "      <th>Mem_Score_After</th>\n",
       "      <th>Diff</th>\n",
       "      <th>Combination</th>\n",
       "      <th>res</th>\n",
       "      <th>abs_res</th>\n",
       "    </tr>\n",
       "  </thead>\n",
       "  <tbody>\n",
       "    <tr>\n",
       "      <th>109</th>\n",
       "      <td>Eva</td>\n",
       "      <td>Takahashi</td>\n",
       "      <td>31</td>\n",
       "      <td>S</td>\n",
       "      <td>2</td>\n",
       "      <td>S</td>\n",
       "      <td>84.5</td>\n",
       "      <td>44.1</td>\n",
       "      <td>-40.4</td>\n",
       "      <td>S2</td>\n",
       "      <td>-39.856521</td>\n",
       "      <td>39.856521</td>\n",
       "    </tr>\n",
       "  </tbody>\n",
       "</table>\n",
       "</div>"
      ],
      "text/plain": [
       "    first_name  last_name  age Happy_Sad_group  Dosage Drug  Mem_Score_Before  \\\n",
       "109        Eva  Takahashi   31               S       2    S              84.5   \n",
       "\n",
       "     Mem_Score_After  Diff Combination        res    abs_res  \n",
       "109             44.1 -40.4          S2 -39.856521  39.856521  "
      ]
     },
     "execution_count": 23,
     "metadata": {},
     "output_type": "execute_result"
    }
   ],
   "source": [
    "islanders.iloc[[big_ind1]]"
   ]
  },
  {
   "cell_type": "code",
   "execution_count": 24,
   "metadata": {},
   "outputs": [
    {
     "data": {
      "text/html": [
       "<div>\n",
       "<style scoped>\n",
       "    .dataframe tbody tr th:only-of-type {\n",
       "        vertical-align: middle;\n",
       "    }\n",
       "\n",
       "    .dataframe tbody tr th {\n",
       "        vertical-align: top;\n",
       "    }\n",
       "\n",
       "    .dataframe thead th {\n",
       "        text-align: right;\n",
       "    }\n",
       "</style>\n",
       "<table border=\"1\" class=\"dataframe\">\n",
       "  <thead>\n",
       "    <tr style=\"text-align: right;\">\n",
       "      <th></th>\n",
       "      <th>first_name</th>\n",
       "      <th>last_name</th>\n",
       "      <th>age</th>\n",
       "      <th>Happy_Sad_group</th>\n",
       "      <th>Dosage</th>\n",
       "      <th>Drug</th>\n",
       "      <th>Mem_Score_Before</th>\n",
       "      <th>Mem_Score_After</th>\n",
       "      <th>Diff</th>\n",
       "      <th>Combination</th>\n",
       "      <th>res</th>\n",
       "      <th>abs_res</th>\n",
       "    </tr>\n",
       "  </thead>\n",
       "  <tbody>\n",
       "    <tr>\n",
       "      <th>48</th>\n",
       "      <td>Miki</td>\n",
       "      <td>Carrasco</td>\n",
       "      <td>35</td>\n",
       "      <td>H</td>\n",
       "      <td>3</td>\n",
       "      <td>A</td>\n",
       "      <td>65.0</td>\n",
       "      <td>114.0</td>\n",
       "      <td>49.0</td>\n",
       "      <td>A3</td>\n",
       "      <td>26.570157</td>\n",
       "      <td>26.570157</td>\n",
       "    </tr>\n",
       "  </tbody>\n",
       "</table>\n",
       "</div>"
      ],
      "text/plain": [
       "   first_name last_name  age Happy_Sad_group  Dosage Drug  Mem_Score_Before  \\\n",
       "48       Miki  Carrasco   35               H       3    A              65.0   \n",
       "\n",
       "    Mem_Score_After  Diff Combination        res    abs_res  \n",
       "48            114.0  49.0          A3  26.570157  26.570157  "
      ]
     },
     "execution_count": 24,
     "metadata": {},
     "output_type": "execute_result"
    }
   ],
   "source": [
    "big_ind2 =  islanders.loc[islanders['abs_res'] == sorted_abs_residuals[1]].index[0]\n",
    "islanders.iloc[[big_ind2]]"
   ]
  },
  {
   "cell_type": "code",
   "execution_count": 25,
   "metadata": {},
   "outputs": [
    {
     "data": {
      "text/html": [
       "<div>\n",
       "<style scoped>\n",
       "    .dataframe tbody tr th:only-of-type {\n",
       "        vertical-align: middle;\n",
       "    }\n",
       "\n",
       "    .dataframe tbody tr th {\n",
       "        vertical-align: top;\n",
       "    }\n",
       "\n",
       "    .dataframe thead th {\n",
       "        text-align: right;\n",
       "    }\n",
       "</style>\n",
       "<table border=\"1\" class=\"dataframe\">\n",
       "  <thead>\n",
       "    <tr style=\"text-align: right;\">\n",
       "      <th></th>\n",
       "      <th>first_name</th>\n",
       "      <th>last_name</th>\n",
       "      <th>age</th>\n",
       "      <th>Happy_Sad_group</th>\n",
       "      <th>Dosage</th>\n",
       "      <th>Drug</th>\n",
       "      <th>Mem_Score_Before</th>\n",
       "      <th>Mem_Score_After</th>\n",
       "      <th>Diff</th>\n",
       "      <th>Combination</th>\n",
       "      <th>res</th>\n",
       "      <th>abs_res</th>\n",
       "    </tr>\n",
       "  </thead>\n",
       "  <tbody>\n",
       "    <tr>\n",
       "      <th>168</th>\n",
       "      <td>Naoto</td>\n",
       "      <td>Lopez</td>\n",
       "      <td>35</td>\n",
       "      <td>H</td>\n",
       "      <td>2</td>\n",
       "      <td>T</td>\n",
       "      <td>33.4</td>\n",
       "      <td>57.5</td>\n",
       "      <td>24.1</td>\n",
       "      <td>T2</td>\n",
       "      <td>23.161066</td>\n",
       "      <td>23.161066</td>\n",
       "    </tr>\n",
       "  </tbody>\n",
       "</table>\n",
       "</div>"
      ],
      "text/plain": [
       "    first_name last_name  age Happy_Sad_group  Dosage Drug  Mem_Score_Before  \\\n",
       "168      Naoto     Lopez   35               H       2    T              33.4   \n",
       "\n",
       "     Mem_Score_After  Diff Combination        res    abs_res  \n",
       "168             57.5  24.1          T2  23.161066  23.161066  "
      ]
     },
     "execution_count": 25,
     "metadata": {},
     "output_type": "execute_result"
    }
   ],
   "source": [
    "big_ind3 = islanders.loc[islanders.abs_res == sorted_abs_residuals[2]].index[0]\n",
    "islanders.iloc[[big_ind3]]"
   ]
  },
  {
   "cell_type": "markdown",
   "metadata": {},
   "source": [
    "There does not appear to be any discernable reason for why the residual values are so far off. Based on the largest difference, the woman took a sugar pill and her memory score difference dropped significantly, so it really is not the drug. Maybe her memory was just triggered faster the second time around. For the other two individuals, it appears that the drugs had a larger effect on the participants than the model predicted."
   ]
  },
  {
   "cell_type": "markdown",
   "metadata": {},
   "source": [
    "#### Interaction Plots\n",
    "We want to analyze the interaction plots between the different treatment combinations."
   ]
  },
  {
   "cell_type": "code",
   "execution_count": 26,
   "metadata": {},
   "outputs": [
    {
     "data": {
      "image/png": "[encoded data removed]",
      "text/plain": [
       "<Figure size 576x576 with 1 Axes>"
      ]
     },
     "metadata": {
      "needs_background": "light"
     },
     "output_type": "display_data"
    }
   ],
   "source": [
    "fig, ax = plt.subplots(figsize=(8, 8))\n",
    "fig = interaction_plot(x=np.array(islanders.Drug), trace=np.array(islanders.Dosage), response=np.array(islanders.Diff), \n",
    "                       markers=['D', '^', 'x'], ms=10, ax=ax)\n",
    "plt.xlabel('Drug Type')\n",
    "plt.ylabel('Memory Response Score Difference')\n",
    "plt.title('Interaction Plot of Drug and Dosage')\n",
    "plt.savefig('project_imgs/interaction_plot.jpeg')\n",
    "plt.show()"
   ]
  },
  {
   "cell_type": "markdown",
   "metadata": {},
   "source": [
    "#### Power and Optimality\n",
    "We want to try to calculate the power of this experiment. We also want to try to figure out if the experiment is in any way optimal (D, G, etc.) and then try to suggest different model parameters if the experiment had the wrong calculated power or if there is an optimal suggested design.\n",
    "\n",
    "As the effect size increases, the power of a statistical test increases. The effect size, d, is defined as the number of standard deviations between the null mean and the alternate mean. Symbolically,\n",
    "\n",
    "$d = \\frac{\\mu_1 - \\mu_0}{\\sigma}$\n",
    "\n",
    "Here, we do not really have any good idea of how many standard deviations from the mean the different treatment groups will be, but we will assume that the effect is approximately 0.25."
   ]
  },
  {
   "cell_type": "code",
   "execution_count": 27,
   "metadata": {},
   "outputs": [
    {
     "name": "stdout",
     "output_type": "stream",
     "text": [
      "0.6795005056325211\n"
     ]
    }
   ],
   "source": [
    "from statsmodels.stats.power import ftest_anova_power\n",
    "\n",
    "# For the regression model we have \n",
    "# nobs = sample size\n",
    "# alpha = prob type I error, here is 0.05\n",
    "# effect size will be 0.25\n",
    "effect_size = 0.25\n",
    "nobs = len(islanders) # 198\n",
    "alpha = 0.05\n",
    "k_groups = 9 # the number of different potential treatment combinations\n",
    "\n",
    "print(ftest_anova_power(effect_size, nobs, alpha, k_groups=9, df=None))"
   ]
  },
  {
   "cell_type": "markdown",
   "metadata": {},
   "source": [
    "Suppose we want to try to reduce the probability of a type II error to at most 0.05, i.e. have a power of at least 0.95. We would need to either increase the effect size, or we need to increase the sample size. Assuming the effect of a treatment on these islanders stays fixed, we would need to increase sample size."
   ]
  },
  {
   "cell_type": "code",
   "execution_count": 28,
   "metadata": {},
   "outputs": [
    {
     "name": "stdout",
     "output_type": "stream",
     "text": [
      "0.9501657697493382\n",
      "0.953733645479122\n"
     ]
    }
   ],
   "source": [
    "print(ftest_anova_power(effect_size, 372, alpha, k_groups=9, df=None))\n",
    "print(ftest_anova_power(effect_size, 378, alpha, k_groups = 9, df = None))"
   ]
  },
  {
   "cell_type": "markdown",
   "metadata": {},
   "source": [
    "In this case we would need to increase the number of samples to at least 372 people. In order to ensure a 1-to-1 ratio between the 9 different groups, we would have to increase the sample size to 378.\n",
    "#### Optimality\n",
    "We want to figure out what the determinant of $\\mathbf{X}^T\\mathbf{X}$ is in order to determine if the design is D-optimal. All of our predictor variables are bounded by $[0,1]$ since we had to treat them as categorical variable factors as either the units did not match to make an appropriate comparison or could not be ranked ordinally. The volume of the jount confidence region that contains all the model parameter estimates is inversly proportional to the square root of the determinant of $\\mathbf{X}^T\\mathbf{X}$, so this would minimize the area of the joint confidence region. We thus want to make the determinant of $\\mathbf{X}^T\\mathbf{X}$ as large as possible."
   ]
  },
  {
   "cell_type": "code",
   "execution_count": 29,
   "metadata": {},
   "outputs": [
    {
     "name": "stdout",
     "output_type": "stream",
     "text": [
      "[[198.  99.   2.   1.   2.   1.   0.  -1.  -1.  -1.]\n",
      " [ 99.  99.   2.   1.   2.   1.   0.  -1.  -1.  -1.]\n",
      " [  2.   2. 132.  65.   0.  -1.   2.   1.   1.   1.]\n",
      " [  1.   1.  65. 131.  -1.  -1.   1.   1.   1.   1.]\n",
      " [  2.   2.   0.  -1. 132.  65.   2.   1.   1.   1.]\n",
      " [  1.   1.  -1.  -1.  65. 131.   1.   1.   1.   1.]\n",
      " [  0.   0.   2.   1.   2.   1.  88.  43.  43.  21.]\n",
      " [ -1.  -1.   1.   1.   1.   1.  43.  87.  21.  43.]\n",
      " [ -1.  -1.   1.   1.   1.   1.  43.  21.  87.  43.]\n",
      " [ -1.  -1.   1.   1.   1.   1.  21.  43.  43.  87.]] 3.1678622793397047e+19 10\n"
     ]
    }
   ],
   "source": [
    "XtX = np.dot(np.transpose(np.asarray(X)), np.asarray(X))\n",
    "determinant_XtX = np.linalg.det(XtX)\n",
    "rank_XtX = np.linalg.matrix_rank(XtX)\n",
    "print(XtX, determinant_XtX, rank_XtX)"
   ]
  },
  {
   "cell_type": "markdown",
   "metadata": {},
   "source": [
    "Given that the determinant is extremely large, the matrix $\\mathbf{X}^T\\mathbf{X}$ has full rank, and the determinant of $\\mathbf{X}^T\\mathbf{X}$ it seems plausible that this is a D-optimal design but a further investigation would need to be carried out in order to determine if this is actually the case. We also want to try to figure out if a design is minimizing the maximum prediction variance over a design space, we need to look at the variance of the current model. There is constant variation that comes with the estimation of the model parameters."
   ]
  },
  {
   "cell_type": "code",
   "execution_count": 30,
   "metadata": {},
   "outputs": [
    {
     "data": {
      "text/plain": [
       "0.1508897955388174"
      ]
     },
     "execution_count": 30,
     "metadata": {},
     "output_type": "execute_result"
    }
   ],
   "source": [
    "# G optimality?\n",
    "inverse_XtX = np.linalg.inv(XtX)\n",
    "#print(inverse_XtX)\n",
    "diags = []\n",
    "for i in range(rank_XtX):\n",
    "    entry = inverse_XtX[i, i]\n",
    "    diags.append(entry)\n",
    "    \n",
    "sum_of_diags = np.sum(diags)\n",
    "sum_of_diags"
   ]
  },
  {
   "cell_type": "markdown",
   "metadata": {},
   "source": [
    "We hypothetically regressed the model:\n",
    "\n",
    "$\\hat{y} = \\beta_0 + \\beta_1x_1+\\beta_2x_2+\\beta_3x_3+\\beta_4x_4+\\beta_5x_5+\\beta_6x_2x_4+\\beta_7x_3x_4+\\beta_8x_2x_5+\\beta_9x_3x_5$\n",
    "\n",
    "In order to calculate the maximum prediction variance for this model, we would need to calculate:\n",
    "\n",
    "$V(\\mathbf{X}\\beta) = \\sigma^2 \\sum_{i=1}^{10}(\\mathbf{X}^T\\mathbf{X}_{ii})^{-1}(1+x_1+x_2+x_3+x_4+x_5+x_2x_4+x_3x_4+x_2x_5+x_3x_5)$\n",
    "\n",
    "This is maximized when $x_1 = 1$ and then one of $x_2, x_3$ and one of $x_4, x_5$ are equal to one as well. This would be equal to:"
   ]
  },
  {
   "cell_type": "code",
   "execution_count": 31,
   "metadata": {},
   "outputs": [
    {
     "data": {
      "text/plain": [
       "0.754448977694087"
      ]
     },
     "execution_count": 31,
     "metadata": {},
     "output_type": "execute_result"
    }
   ],
   "source": [
    "sum_of_diags * (1+1+1+1+1)"
   ]
  },
  {
   "cell_type": "markdown",
   "metadata": {},
   "source": [
    "$V(\\mathbf{X}\\beta) = 0.75445\\sigma^2$. It seems unlikely that this is the minimum possible maximum variance of this experimental design, but again further investigations would be needed to check if this is the case."
   ]
  }
 ],
 "metadata": {
  "kernelspec": {
   "display_name": "Python 3",
   "language": "python",
   "name": "python3"
  },
  "language_info": {
   "codemirror_mode": {
    "name": "ipython",
    "version": 3
   },
   "file_extension": ".py",
   "mimetype": "text/x-python",
   "name": "python",
   "nbconvert_exporter": "python",
   "pygments_lexer": "ipython3",
   "version": "3.6.9"
  }
 },
 "nbformat": 4,
 "nbformat_minor": 2
}
